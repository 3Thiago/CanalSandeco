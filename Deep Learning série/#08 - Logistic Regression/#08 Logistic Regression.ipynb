{
 "cells": [
  {
   "cell_type": "markdown",
   "metadata": {
    "colab_type": "text",
    "id": "jimNxbOp6y5o"
   },
   "source": [
    "# CANAL SANDECO\n",
    "## REGRESSÃO LOGÍSTICA\n",
    "LOGISTIC REGRESSION"
   ]
  },
  {
   "cell_type": "code",
   "execution_count": 6,
   "metadata": {
    "colab": {},
    "colab_type": "code",
    "id": "Phk515oQ6y5q"
   },
   "outputs": [],
   "source": [
    "import numpy as np  \n",
    "import pandas as pd  \n",
    "import matplotlib.pyplot as plt\n",
    "%matplotlib inline"
   ]
  },
  {
   "cell_type": "code",
   "execution_count": 8,
   "metadata": {
    "colab": {},
    "colab_type": "code",
    "id": "_yDMljf96y5u"
   },
   "outputs": [
    {
     "data": {
      "text/html": [
       "<div>\n",
       "<style scoped>\n",
       "    .dataframe tbody tr th:only-of-type {\n",
       "        vertical-align: middle;\n",
       "    }\n",
       "\n",
       "    .dataframe tbody tr th {\n",
       "        vertical-align: top;\n",
       "    }\n",
       "\n",
       "    .dataframe thead th {\n",
       "        text-align: right;\n",
       "    }\n",
       "</style>\n",
       "<table border=\"1\" class=\"dataframe\">\n",
       "  <thead>\n",
       "    <tr style=\"text-align: right;\">\n",
       "      <th></th>\n",
       "      <th>Exame1</th>\n",
       "      <th>Exame2</th>\n",
       "      <th>Admitido</th>\n",
       "    </tr>\n",
       "  </thead>\n",
       "  <tbody>\n",
       "    <tr>\n",
       "      <th>0</th>\n",
       "      <td>34.623660</td>\n",
       "      <td>78.024693</td>\n",
       "      <td>0</td>\n",
       "    </tr>\n",
       "    <tr>\n",
       "      <th>1</th>\n",
       "      <td>30.286711</td>\n",
       "      <td>43.894998</td>\n",
       "      <td>0</td>\n",
       "    </tr>\n",
       "    <tr>\n",
       "      <th>2</th>\n",
       "      <td>35.847409</td>\n",
       "      <td>72.902198</td>\n",
       "      <td>0</td>\n",
       "    </tr>\n",
       "    <tr>\n",
       "      <th>3</th>\n",
       "      <td>60.182599</td>\n",
       "      <td>86.308552</td>\n",
       "      <td>1</td>\n",
       "    </tr>\n",
       "    <tr>\n",
       "      <th>4</th>\n",
       "      <td>79.032736</td>\n",
       "      <td>75.344376</td>\n",
       "      <td>1</td>\n",
       "    </tr>\n",
       "  </tbody>\n",
       "</table>\n",
       "</div>"
      ],
      "text/plain": [
       "      Exame1     Exame2  Admitido\n",
       "0  34.623660  78.024693         0\n",
       "1  30.286711  43.894998         0\n",
       "2  35.847409  72.902198         0\n",
       "3  60.182599  86.308552         1\n",
       "4  79.032736  75.344376         1"
      ]
     },
     "execution_count": 8,
     "metadata": {},
     "output_type": "execute_result"
    }
   ],
   "source": [
    "df = pd.read_csv('admissao.csv')\n",
    "df.head()\n",
    "\n",
    "\n",
    "\n",
    "\n",
    "\n",
    "\n",
    "\n"
   ]
  },
  {
   "cell_type": "markdown",
   "metadata": {},
   "source": [
    "### VERIFICANDO A DISPERSSÃO DOS DADOS"
   ]
  },
  {
   "cell_type": "code",
   "execution_count": 9,
   "metadata": {
    "colab": {},
    "colab_type": "code",
    "id": "ZzJwrF646y52"
   },
   "outputs": [
    {
     "data": {
      "text/plain": [
       "Text(0,0.5,'Exam 2 Score')"
      ]
     },
     "execution_count": 9,
     "metadata": {},
     "output_type": "execute_result"
    },
    {
     "data": {
      "image/png": "[encoded data removed]",
      "text/plain": [
       "<Figure size 432x432 with 1 Axes>"
      ]
     },
     "metadata": {},
     "output_type": "display_data"
    }
   ],
   "source": [
    "positive = df[df['Admitido'].isin([1])]  \n",
    "negative = df[df['Admitido'].isin([0])]\n",
    "\n",
    "fig, ax = plt.subplots(figsize=(6,6)) \n",
    "ax.scatter(positive['Exame1'], positive['Exame2'], s=50, c='b', marker='o', label='Admitido')  \n",
    "ax.scatter(negative['Exame1'], negative['Exame2'], s=50, c='r', marker='x', label='Não Admitido')  \n",
    "ax.legend()  \n",
    "ax.set_xlabel('Exam 1 Score')  \n",
    "ax.set_ylabel('Exam 2 Score')  "
   ]
  },
  {
   "cell_type": "markdown",
   "metadata": {
    "colab_type": "text",
    "id": "sdU2mxem6y56"
   },
   "source": [
    "Podemos ver que há um limite de decisão quase linear. Ele se curva um pouco, então não podemos classificar todos os exemplos corretamente usando uma linha reta, mas devemos ser capazes de chegar bem perto. \n",
    "\n",
    "Agora, precisamos implementar a regressão logística para que possamos treinar um modelo para encontrar o limite de decisão ideal e fazer previsões de classe. O primeiro passo é implementar a função sigmóide."
   ]
  },
  {
   "cell_type": "markdown",
   "metadata": {
    "colab_type": "text",
    "id": "dpEFBSTI6y6L"
   },
   "source": [
    "### PRÉ-PROCESSAMENTO DE DADOS"
   ]
  },
  {
   "cell_type": "markdown",
   "metadata": {
    "colab_type": "text",
    "id": "JI54I9bK6y6M"
   },
   "source": [
    "### SEPARANDO X de y "
   ]
  },
  {
   "cell_type": "code",
   "execution_count": 11,
   "metadata": {
    "colab": {},
    "colab_type": "code",
    "id": "mvo9PfSZ6y6M"
   },
   "outputs": [],
   "source": [
    "# set X (training data) and y (target variable)\n",
    "n_features = len(df.columns)-1 \n",
    "\n",
    "X = np.array(df.drop('Admitido',1)) \n",
    "y = df.iloc[:,n_features:n_features+1].values"
   ]
  },
  {
   "cell_type": "markdown",
   "metadata": {
    "colab_type": "text",
    "id": "vZRRKnOg6y6Q"
   },
   "source": [
    "### Guarando os vetores de média e desvio padrão na padronização para classificação futura"
   ]
  },
  {
   "cell_type": "code",
   "execution_count": 14,
   "metadata": {
    "colab": {},
    "colab_type": "code",
    "id": "ih7AG9P46y6R"
   },
   "outputs": [],
   "source": [
    "mean = X.mean(axis=0)\n",
    "std = X.std(axis=0)"
   ]
  },
  {
   "cell_type": "markdown",
   "metadata": {
    "colab_type": "text",
    "id": "aVDUDSjr6y6U"
   },
   "source": [
    "### Padronização dos dados"
   ]
  },
  {
   "cell_type": "code",
   "execution_count": 15,
   "metadata": {
    "colab": {},
    "colab_type": "code",
    "id": "yvPqdfKl6y6W"
   },
   "outputs": [],
   "source": [
    "from sklearn.preprocessing import StandardScaler\n",
    "scaler = StandardScaler()"
   ]
  },
  {
   "cell_type": "code",
   "execution_count": 18,
   "metadata": {
    "colab": {},
    "colab_type": "code",
    "id": "uGqF6Gv_6y6d"
   },
   "outputs": [],
   "source": [
    "scaler.fit(X)\n",
    "X = scaler.transform(X)"
   ]
  },
  {
   "cell_type": "markdown",
   "metadata": {
    "colab_type": "text",
    "id": "uPYZc9lr6y6l"
   },
   "source": [
    "## CRIANDO X-zero com valores = 1"
   ]
  },
  {
   "cell_type": "code",
   "execution_count": 19,
   "metadata": {
    "colab": {},
    "colab_type": "code",
    "id": "8OIuGqQq6y6p"
   },
   "outputs": [],
   "source": [
    "def insert_ones(X):\n",
    "    ones = np.ones([X.shape[0],1])\n",
    "    return np.concatenate((ones,X),axis=1)"
   ]
  },
  {
   "cell_type": "markdown",
   "metadata": {
    "colab_type": "text",
    "id": "JUhgM7pR6y6x"
   },
   "source": [
    "## Criando um vetor de W's baseado na quantidades de features"
   ]
  },
  {
   "cell_type": "code",
   "execution_count": 20,
   "metadata": {
    "colab": {},
    "colab_type": "code",
    "id": "T3DwAnrw6y6z"
   },
   "outputs": [
    {
     "data": {
      "text/plain": [
       "array([[0.19637687, 0.59324904, 0.95199832]])"
      ]
     },
     "execution_count": 20,
     "metadata": {},
     "output_type": "execute_result"
    }
   ],
   "source": [
    "w = np.random.rand(1,n_features+1) ## valores entre 0 e 1\n",
    "w"
   ]
  },
  {
   "cell_type": "markdown",
   "metadata": {
    "colab_type": "text",
    "id": "ih19Gv9-6y57"
   },
   "source": [
    "# SIGMOID"
   ]
  },
  {
   "cell_type": "code",
   "execution_count": 21,
   "metadata": {
    "colab": {},
    "colab_type": "code",
    "id": "Q3usYPrk6y58"
   },
   "outputs": [],
   "source": [
    "def sigmoid(z):\n",
    "    return 1 / ( 1 + np.exp(-z))"
   ]
  },
  {
   "cell_type": "markdown",
   "metadata": {},
   "source": [
    "#### VISUALIZANDO UMA SIGMOID"
   ]
  },
  {
   "cell_type": "code",
   "execution_count": 22,
   "metadata": {
    "colab": {},
    "colab_type": "code",
    "id": "DnRXB0Rd6y6A"
   },
   "outputs": [
    {
     "data": {
      "text/plain": [
       "[<matplotlib.lines.Line2D at 0x21ee8ecbe10>]"
      ]
     },
     "execution_count": 22,
     "metadata": {},
     "output_type": "execute_result"
    },
    {
     "data": {
      "image/png": "[encoded data removed]",
      "text/plain": [
       "<Figure size 432x288 with 1 Axes>"
      ]
     },
     "metadata": {},
     "output_type": "display_data"
    }
   ],
   "source": [
    "nums = np.arange(-10, 10, step=1) ## criando uma distribuição entre -10 e 10\n",
    "\n",
    "## plotando \n",
    "fig, ax = plt.subplots(figsize=(6,4))  \n",
    "ax.plot(nums, sigmoid(nums), 'r')  "
   ]
  },
  {
   "cell_type": "markdown",
   "metadata": {
    "colab_type": "text",
    "id": "wsbAh-c86y6F"
   },
   "source": [
    "## BINARY CROSS ENTROPY "
   ]
  },
  {
   "cell_type": "code",
   "execution_count": 23,
   "metadata": {
    "colab": {},
    "colab_type": "code",
    "id": "kiquClCa6y6G"
   },
   "outputs": [],
   "source": [
    "def binary_cross_entropy(w, X, y):    \n",
    "    \n",
    "    m = len(X)\n",
    "    \n",
    "    parte1 = np.multiply(-y, np.log(sigmoid(X @ w.T)))\n",
    "    parte2 = np.multiply((1 - y), np.log(1 - sigmoid(X @ w.T)))\n",
    "    \n",
    "    somatorio = np.sum(parte1 - parte2)\n",
    "    \n",
    "    return  somatorio/m\n"
   ]
  },
  {
   "cell_type": "markdown",
   "metadata": {
    "colab_type": "text",
    "id": "qljRsipf6y6_"
   },
   "source": [
    "## GRADIENT DESCENDENT"
   ]
  },
  {
   "cell_type": "code",
   "execution_count": 24,
   "metadata": {
    "colab": {},
    "colab_type": "code",
    "id": "_Bomz-4D6y7A"
   },
   "outputs": [],
   "source": [
    "def gradient_descent(w,X,y,alpha,epoch):\n",
    "    cost = np.zeros(epoch)\n",
    "    for i in range(epoch):\n",
    "        w = w - (alpha/len(X)) * np.sum((sigmoid(X @ w.T) - y)*X, axis=0)\n",
    "        cost[i] = binary_cross_entropy(w, X, y)\n",
    "    \n",
    "    return w,cost"
   ]
  },
  {
   "cell_type": "markdown",
   "metadata": {},
   "source": [
    "## INICIALIZANDO"
   ]
  },
  {
   "cell_type": "code",
   "execution_count": 25,
   "metadata": {},
   "outputs": [],
   "source": [
    "X = insert_ones(X)"
   ]
  },
  {
   "cell_type": "code",
   "execution_count": 26,
   "metadata": {
    "colab": {},
    "colab_type": "code",
    "id": "p9hWmRQ-6y7C"
   },
   "outputs": [],
   "source": [
    "alpha=0.01 # taxa de aprendizado\n",
    "epoch = 10000"
   ]
  },
  {
   "cell_type": "code",
   "execution_count": 27,
   "metadata": {
    "colab": {},
    "colab_type": "code",
    "id": "gTZTWdDD6y7F"
   },
   "outputs": [],
   "source": [
    "w, cost = gradient_descent(w, X, y, alpha, epoch)"
   ]
  },
  {
   "cell_type": "markdown",
   "metadata": {},
   "source": [
    "#### PLOTANDO O CUSTO"
   ]
  },
  {
   "cell_type": "code",
   "execution_count": 28,
   "metadata": {
    "colab": {},
    "colab_type": "code",
    "id": "36N7nuTI6y7I"
   },
   "outputs": [
    {
     "data": {
      "text/plain": [
       "Text(0.5,1,'Erro vs. Epoch')"
      ]
     },
     "execution_count": 28,
     "metadata": {},
     "output_type": "execute_result"
    },
    {
     "data": {
      "image/png": "[encoded data removed]",
      "text/plain": [
       "<Figure size 432x288 with 1 Axes>"
      ]
     },
     "metadata": {},
     "output_type": "display_data"
    }
   ],
   "source": [
    "fig, ax = plt.subplots()  \n",
    "ax.plot(np.arange(epoch), cost, 'r')  \n",
    "ax.set_xlabel('Iterações')  \n",
    "ax.set_ylabel('Custo')  \n",
    "ax.set_title('Erro vs. Epoch')  "
   ]
  },
  {
   "cell_type": "markdown",
   "metadata": {},
   "source": [
    "### VALORES FINAIS DE W"
   ]
  },
  {
   "cell_type": "code",
   "execution_count": 29,
   "metadata": {
    "colab": {},
    "colab_type": "code",
    "id": "kcOFxmcS6y7N"
   },
   "outputs": [
    {
     "data": {
      "text/plain": [
       "array([[1.28655889, 3.08048672, 2.84358495]])"
      ]
     },
     "execution_count": 29,
     "metadata": {},
     "output_type": "execute_result"
    }
   ],
   "source": [
    "w"
   ]
  },
  {
   "cell_type": "markdown",
   "metadata": {
    "colab_type": "text",
    "id": "wKWlYdB36y7V"
   },
   "source": [
    "## REALIZANDO PREDIÇÕES"
   ]
  },
  {
   "cell_type": "code",
   "execution_count": 33,
   "metadata": {
    "colab": {},
    "colab_type": "code",
    "id": "R909yLnE6y7X"
   },
   "outputs": [],
   "source": [
    "def predict(w, X, threshold=0.5):\n",
    "    p = sigmoid(X @ w.T) >= threshold\n",
    "    return (p.astype('int'))\n",
    "\n",
    "\n",
    "\n",
    "\n",
    "\n",
    "\n",
    "\n"
   ]
  },
  {
   "cell_type": "markdown",
   "metadata": {
    "colab_type": "text",
    "id": "zTvYSMqk6y7c"
   },
   "source": [
    "#### NOVO ESTUDANTE 1\n",
    "Exame 1 = 45 <br/>\n",
    "Exame 2 = 85"
   ]
  },
  {
   "cell_type": "code",
   "execution_count": 30,
   "metadata": {
    "colab": {},
    "colab_type": "code",
    "id": "bN25TqSi6y7d"
   },
   "outputs": [],
   "source": [
    "estudante1 = np.array([[45,85]])\n",
    "estudante1 = (estudante1 - mean)/std\n",
    "estudante1 = insert_ones(estudante1)"
   ]
  },
  {
   "cell_type": "code",
   "execution_count": 31,
   "metadata": {
    "colab": {},
    "colab_type": "code",
    "id": "iNwnrUsD6y7n"
   },
   "outputs": [
    {
     "data": {
      "text/plain": [
       "array([[0.7088435]])"
      ]
     },
     "execution_count": 31,
     "metadata": {},
     "output_type": "execute_result"
    }
   ],
   "source": [
    "## PROBABILIDADE\n",
    "sigmoid(estudante1@ w.T)"
   ]
  },
  {
   "cell_type": "code",
   "execution_count": 34,
   "metadata": {
    "colab": {},
    "colab_type": "code",
    "id": "S0gu7vAE6y7s"
   },
   "outputs": [
    {
     "data": {
      "text/plain": [
       "array([[1]])"
      ]
     },
     "execution_count": 34,
     "metadata": {},
     "output_type": "execute_result"
    }
   ],
   "source": [
    "## PREDIÇÃO\n",
    "predict(w, estudante1)\n",
    "## ADMITIDO"
   ]
  },
  {
   "cell_type": "markdown",
   "metadata": {
    "colab_type": "text",
    "id": "3FlBrBaB6y7y"
   },
   "source": [
    "#### NOVO ESTUDANTE 2\n",
    "Exame 1 = 90 <br/>\n",
    "Exame 2 = 90"
   ]
  },
  {
   "cell_type": "code",
   "execution_count": 35,
   "metadata": {
    "colab": {},
    "colab_type": "code",
    "id": "ZGTlLbFN6y7z"
   },
   "outputs": [],
   "source": [
    "estudante2 = np.array([[90, 90]])\n",
    "estudante2 = (estudante2 - mean)/std\n",
    "estudante2 = insert_ones(estudante2)"
   ]
  },
  {
   "cell_type": "code",
   "execution_count": 36,
   "metadata": {
    "colab": {},
    "colab_type": "code",
    "id": "ELdMqrD76y74"
   },
   "outputs": [
    {
     "data": {
      "text/plain": [
       "array([[0.99985208]])"
      ]
     },
     "execution_count": 36,
     "metadata": {},
     "output_type": "execute_result"
    }
   ],
   "source": [
    "## PROBABILIDADE \n",
    "sigmoid(estudante2 @ w.T)"
   ]
  },
  {
   "cell_type": "code",
   "execution_count": 37,
   "metadata": {},
   "outputs": [
    {
     "data": {
      "text/plain": [
       "array([[1]])"
      ]
     },
     "execution_count": 37,
     "metadata": {},
     "output_type": "execute_result"
    }
   ],
   "source": [
    "## PREDIÇÃO\n",
    "predict(w, estudante2)"
   ]
  },
  {
   "cell_type": "markdown",
   "metadata": {
    "colab_type": "text",
    "id": "h9Y7ihJ56y79"
   },
   "source": [
    "#### NOVO ESTUDANTE 3\n",
    "Exame 1 = 45 <br/>\n",
    "Exame 2 = 45"
   ]
  },
  {
   "cell_type": "code",
   "execution_count": 38,
   "metadata": {
    "colab": {},
    "colab_type": "code",
    "id": "cNjUYGLA6y79"
   },
   "outputs": [],
   "source": [
    "estudante3 = np.array([[45, 45]])\n",
    "estudante3 = (estudante3 - mean)/std\n",
    "estudante3 = insert_ones(estudante3)"
   ]
  },
  {
   "cell_type": "code",
   "execution_count": 39,
   "metadata": {},
   "outputs": [
    {
     "data": {
      "text/plain": [
       "array([[0.00515836]])"
      ]
     },
     "execution_count": 39,
     "metadata": {},
     "output_type": "execute_result"
    }
   ],
   "source": [
    "## PROBABILIDADE \n",
    "sigmoid(estudante3 @ w.T)"
   ]
  },
  {
   "cell_type": "code",
   "execution_count": 40,
   "metadata": {
    "colab": {},
    "colab_type": "code",
    "id": "6iQDQHMe6y8B"
   },
   "outputs": [
    {
     "data": {
      "text/plain": [
       "array([[0]])"
      ]
     },
     "execution_count": 40,
     "metadata": {},
     "output_type": "execute_result"
    }
   ],
   "source": [
    "## PREDIÇÃO\n",
    "predict(w, estudante3)\n",
    "## NÃO ADMITIDO"
   ]
  },
  {
   "cell_type": "markdown",
   "metadata": {
    "colab_type": "text",
    "id": "c-yPlV3L6y8L"
   },
   "source": [
    "#### NOVO ESTUDANTE 4\n",
    "Exame 1 = 62 <br/>\n",
    "Exame 2 = 62"
   ]
  },
  {
   "cell_type": "code",
   "execution_count": 41,
   "metadata": {
    "colab": {},
    "colab_type": "code",
    "id": "Vys-I4oY6y8M"
   },
   "outputs": [],
   "source": [
    "estudante4 = np.array([[62, 62]])\n",
    "estudante4 = (estudante4 - mean)/std\n",
    "estudante4 = insert_ones(estudante4)"
   ]
  },
  {
   "cell_type": "code",
   "execution_count": 42,
   "metadata": {
    "colab": {},
    "colab_type": "code",
    "id": "Q8aVeloR6y8P"
   },
   "outputs": [
    {
     "data": {
      "text/plain": [
       "array([[0.51434639]])"
      ]
     },
     "execution_count": 42,
     "metadata": {},
     "output_type": "execute_result"
    }
   ],
   "source": [
    "## PROBABILIDADE \n",
    "sigmoid(estudante4 @ w.T)\n",
    "## MUITO PRÓXIMO A "
   ]
  },
  {
   "cell_type": "code",
   "execution_count": null,
   "metadata": {},
   "outputs": [],
   "source": []
  }
 ],
 "metadata": {
  "colab": {
   "collapsed_sections": [
    "zTvYSMqk6y7c",
    "3FlBrBaB6y7y",
    "h9Y7ihJ56y79",
    "c-yPlV3L6y8L"
   ],
   "name": "03 - Logistic Regression-Copy1.ipynb",
   "provenance": [],
   "version": "0.3.2"
  },
  "kernelspec": {
   "display_name": "Python 3",
   "language": "python",
   "name": "python3"
  },
  "language_info": {
   "codemirror_mode": {
    "name": "ipython",
    "version": 3
   },
   "file_extension": ".py",
   "mimetype": "text/x-python",
   "name": "python",
   "nbconvert_exporter": "python",
   "pygments_lexer": "ipython3",
   "version": "3.6.2"
  }
 },
 "nbformat": 4,
 "nbformat_minor": 1
}
