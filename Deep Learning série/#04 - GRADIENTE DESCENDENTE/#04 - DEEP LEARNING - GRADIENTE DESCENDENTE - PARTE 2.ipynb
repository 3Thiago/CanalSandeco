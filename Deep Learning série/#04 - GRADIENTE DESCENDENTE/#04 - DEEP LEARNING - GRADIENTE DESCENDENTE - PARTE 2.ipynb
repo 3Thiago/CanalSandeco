{
 "cells": [
  {
   "cell_type": "markdown",
   "metadata": {},
   "source": [
    "<img src='titulo.png' style='width:600px; float:left' />\n",
    "\n",
    "<br/>\n",
    "\n",
    "## REGRESSÃO LINEAR SIMPLES"
   ]
  },
  {
   "cell_type": "code",
   "execution_count": 1,
   "metadata": {},
   "outputs": [],
   "source": [
    "## IMPORTAÇÕES\n",
    "import numpy as np\n",
    "import matplotlib.pyplot as plt\n",
    "import math\n",
    "\n",
    "%matplotlib inline\n",
    "\n"
   ]
  },
  {
   "cell_type": "markdown",
   "metadata": {},
   "source": [
    "## DADOS"
   ]
  },
  {
   "cell_type": "code",
   "execution_count": 2,
   "metadata": {},
   "outputs": [],
   "source": [
    "X = [0.5, 2.2, 2.0]\n",
    "y = [2.0, 2.5, 1.4]"
   ]
  },
  {
   "cell_type": "markdown",
   "metadata": {},
   "source": [
    "## TAXA DE APRENDIZADO ( velocidade de descida )\n",
    "<img src='alfa.png' style=\"width:30px; float:left\"/> "
   ]
  },
  {
   "cell_type": "code",
   "execution_count": 3,
   "metadata": {},
   "outputs": [],
   "source": [
    "alpha = 0.01"
   ]
  },
  {
   "cell_type": "markdown",
   "metadata": {},
   "source": [
    "## VALORES INICIAIS PARA W0 e W1"
   ]
  },
  {
   "cell_type": "code",
   "execution_count": 4,
   "metadata": {},
   "outputs": [],
   "source": [
    "w0 = 0.1\n",
    "w1 = 0.1"
   ]
  },
  {
   "cell_type": "markdown",
   "metadata": {},
   "source": [
    "<h1>DEFININDO A HIPÓTESE</h1>\n",
    "<img src='hipotese.png' style=\"width:300px; float:left\"/> \n"
   ]
  },
  {
   "cell_type": "code",
   "execution_count": 5,
   "metadata": {},
   "outputs": [],
   "source": [
    "def y_hat(x, w0, w1):\n",
    "    return w0 + w1*x"
   ]
  },
  {
   "cell_type": "code",
   "execution_count": 6,
   "metadata": {},
   "outputs": [
    {
     "data": {
      "text/plain": [
       "0.25"
      ]
     },
     "execution_count": 6,
     "metadata": {},
     "output_type": "execute_result"
    }
   ],
   "source": [
    "## realizando uma predição ainda com custo alto\n",
    "y_hat(1.5, w0, w1)"
   ]
  },
  {
   "cell_type": "markdown",
   "metadata": {},
   "source": [
    "## FUNÇÃO PARA PLOTAR PONTOS E REGRESSÃO"
   ]
  },
  {
   "cell_type": "code",
   "execution_count": 7,
   "metadata": {},
   "outputs": [],
   "source": [
    "def plot_line(X, y, w0, w1):\n",
    "    x_values = [i for i in range(int(min(X))-1,int(max(X))+2)]\n",
    "    y_values = [y_hat(x, w0, w1) for x in x_values]\n",
    "    plt.plot(x_values,y_values,'r')\n",
    "    plt.plot(X,y,'bo')"
   ]
  },
  {
   "cell_type": "code",
   "execution_count": 8,
   "metadata": {},
   "outputs": [
    {
     "data": {
      "image/png": "[encoded data removed]",
      "text/plain": [
       "<Figure size 432x288 with 1 Axes>"
      ]
     },
     "metadata": {},
     "output_type": "display_data"
    }
   ],
   "source": [
    "plot_line(X,y,w0,w1)"
   ]
  },
  {
   "cell_type": "markdown",
   "metadata": {},
   "source": [
    "## FUNÇÃO MSE (Média do erro ao quadrado)\n",
    "\n",
    "<img src='mse-erro.png' style=\"width:500px; float:left\"/> "
   ]
  },
  {
   "cell_type": "code",
   "execution_count": 9,
   "metadata": {},
   "outputs": [],
   "source": [
    "def MSE (X, y , w0 , w1):\n",
    "    custo = 0\n",
    "    m = float(len(X))\n",
    "    for i in range(0, len(X)):\n",
    "        custo += (y_hat(X[i], w0, w1)-y[i])**2\n",
    "        \n",
    "    return custo/m\n",
    "\n"
   ]
  },
  {
   "cell_type": "code",
   "execution_count": 10,
   "metadata": {},
   "outputs": [
    {
     "data": {
      "text/plain": [
       "3.1282999999999994"
      ]
     },
     "execution_count": 10,
     "metadata": {},
     "output_type": "execute_result"
    }
   ],
   "source": [
    "MSE(X,y, w0, w1)"
   ]
  },
  {
   "cell_type": "markdown",
   "metadata": {},
   "source": [
    "<h1 style=\"color:blue\"> ALGORITMO DO GRADIENTE DESCENDENTE</h1>\n",
    "\n",
    "<img src='gradiente.png' style=\"width:500px; float:left\"/> "
   ]
  },
  {
   "cell_type": "markdown",
   "metadata": {},
   "source": [
    "### GRADIENTE DESCENDENTE STEP"
   ]
  },
  {
   "cell_type": "code",
   "execution_count": 11,
   "metadata": {},
   "outputs": [],
   "source": [
    "def gradient_descent_step(w0, w1, X, y, alpha):\n",
    "    \n",
    "    erro_w0 = 0\n",
    "    erro_w1 = 0\n",
    "    m = float(len(X))\n",
    "    \n",
    "    for i in range(0,len(X)):\n",
    "        erro_w0 += y_hat(X[i], w0, w1) - y[i]\n",
    "        erro_w1 += (y_hat(X[i], w0, w1) - y[i]) * X[i]\n",
    "        \n",
    "    new_w0 = w0 - alpha * (1/m) * erro_w0\n",
    "    new_w1 = w1 - alpha * (1/m) * erro_w1\n",
    "\n",
    "    return new_w0, new_w1\n"
   ]
  },
  {
   "cell_type": "code",
   "execution_count": null,
   "metadata": {},
   "outputs": [],
   "source": []
  },
  {
   "cell_type": "code",
   "execution_count": null,
   "metadata": {},
   "outputs": [],
   "source": []
  },
  {
   "cell_type": "markdown",
   "metadata": {},
   "source": [
    "### GRANDIENTE DESCENDENTE LOOP"
   ]
  },
  {
   "cell_type": "code",
   "execution_count": 12,
   "metadata": {},
   "outputs": [],
   "source": [
    "epoch = 800"
   ]
  },
  {
   "cell_type": "code",
   "execution_count": 13,
   "metadata": {},
   "outputs": [],
   "source": [
    "def gradient_descent(w0, w1, X, y, alpha, epoch):\n",
    "    custo = np.zeros(epoch)\n",
    "    for i in range(epoch):\n",
    "        w0 , w1 = gradient_descent_step(w0, w1, X, y , alpha)\n",
    "        custo[i] = MSE(X,y,w0,w1)\n",
    "        \n",
    "    return w0, w1, custo\n",
    "    \n",
    "    \n",
    "    "
   ]
  },
  {
   "cell_type": "code",
   "execution_count": 14,
   "metadata": {},
   "outputs": [],
   "source": [
    "w0 , w1 , custo = gradient_descent(w0, w1, X, y, alpha, epoch)"
   ]
  },
  {
   "cell_type": "code",
   "execution_count": null,
   "metadata": {},
   "outputs": [
    {
     "data": {
      "text/plain": [
       "array([2.93421022, 2.75481098, 2.58898416, 2.43569679, 2.29399451,\n",
       "       2.16299563, 2.04188557, 1.92991176, 1.82637893, 1.73064474,\n",
       "       1.64211573, 1.56024364, 1.48452194, 1.41448265, 1.34969343,\n",
       "       1.28975485, 1.23429788, 1.18298158, 1.13549098, 1.09153508,\n",
       "       1.05084502, 1.01317242, 0.9782878 , 0.94597917, 0.91605065,\n",
       "       0.88832129, 0.8626239 , 0.83880403, 0.81671898, 0.79623691,\n",
       "       0.77723603, 0.75960381, 0.74323628, 0.7280374 , 0.71391842,\n",
       "       0.70079738, 0.68859852, 0.67725187, 0.66669278, 0.65686152,\n",
       "       0.6477029 , 0.63916595, 0.63120356, 0.62377221, 0.61683171,\n",
       "       0.6103449 , 0.60427747, 0.59859771, 0.59327633, 0.58828627,\n",
       "       0.58360252, 0.57920198, 0.57506331, 0.57116679, 0.5674942 ,\n",
       "       0.56402872, 0.56075478, 0.55765802, 0.55472517, 0.55194396,\n",
       "       0.54930306, 0.54679199, 0.5444011 , 0.54212143, 0.53994473,\n",
       "       0.53786337, 0.53587031, 0.53395902, 0.53212349, 0.53035816,\n",
       "       0.52865789, 0.52701793, 0.5254339 , 0.52390175, 0.52241772,\n",
       "       0.52097835, 0.51958046, 0.51822108, 0.51689749, 0.51560715,\n",
       "       0.51434774, 0.5131171 , 0.51191325, 0.51073433, 0.50957866,\n",
       "       0.50844465, 0.50733086, 0.50623594, 0.50515865, 0.50409784,\n",
       "       0.50305245, 0.50202151, 0.5010041 , 0.49999939, 0.4990066 ,\n",
       "       0.49802501, 0.49705398, 0.49609287, 0.49514113, 0.49419823,\n",
       "       0.49326368, 0.49233704, 0.4914179 , 0.49050587, 0.48960059,\n",
       "       0.48870174, 0.48780901, 0.48692213, 0.48604082, 0.48516485,\n",
       "       0.484294  , 0.48342806, 0.48256683, 0.48171014, 0.48085783,\n",
       "       0.48000974, 0.47916573, 0.47832567, 0.47748943, 0.47665691,\n",
       "       0.475828  , 0.47500259, 0.47418061, 0.47336197, 0.47254658,\n",
       "       0.47173437, 0.47092529, 0.47011925, 0.46931621, 0.46851611,\n",
       "       0.4677189 , 0.46692453, 0.46613295, 0.46534413, 0.46455802,\n",
       "       0.46377459, 0.4629938 , 0.46221562, 0.46144003, 0.46066698,\n",
       "       0.45989646, 0.45912844, 0.4583629 , 0.45759981, 0.45683915,\n",
       "       0.4560809 , 0.45532504, 0.45457156, 0.45382044, 0.45307166,\n",
       "       0.4523252 , 0.45158105, 0.4508392 , 0.45009963, 0.44936233,\n",
       "       0.44862728, 0.44789448, 0.44716391, 0.44643557, 0.44570943,\n",
       "       0.44498549, 0.44426375, 0.44354418, 0.44282678, 0.44211154,\n",
       "       0.44139846, 0.44068752, 0.43997871, 0.43927203, 0.43856746,\n",
       "       0.43786501, 0.43716466, 0.4364664 , 0.43577023, 0.43507613,\n",
       "       0.43438411, 0.43369415, 0.43300625, 0.4323204 , 0.43163659,\n",
       "       0.43095482, 0.43027508, 0.42959736, 0.42892165, 0.42824796,\n",
       "       0.42757627, 0.42690657, 0.42623887, 0.42557315, 0.42490941,\n",
       "       0.42424763, 0.42358783, 0.42292998, 0.42227408, 0.42162014,\n",
       "       0.42096813, 0.42031806, 0.41966991, 0.41902369, 0.41837939,\n",
       "       0.417737  , 0.41709651, 0.41645792, 0.41582123, 0.41518643,\n",
       "       0.4145535 , 0.41392246, 0.41329328, 0.41266598, 0.41204053,\n",
       "       0.41141693, 0.41079519, 0.41017528, 0.40955722, 0.40894098,\n",
       "       0.40832658, 0.40771399, 0.40710322, 0.40649426, 0.40588711,\n",
       "       0.40528175, 0.40467819, 0.40407642, 0.40347644, 0.40287823,\n",
       "       0.40228179, 0.40168712, 0.40109421, 0.40050306, 0.39991367,\n",
       "       0.39932601, 0.39874011, 0.39815593, 0.39757349, 0.39699277,\n",
       "       0.39641378, 0.3958365 , 0.39526093, 0.39468707, 0.39411491,\n",
       "       0.39354444, 0.39297567, 0.39240857, 0.39184317, 0.39127943,\n",
       "       0.39071737, 0.39015697, 0.38959823, 0.38904115, 0.38848572,\n",
       "       0.38793193, 0.38737979, 0.38682928, 0.3862804 , 0.38573315,\n",
       "       0.38518753, 0.38464351, 0.38410112, 0.38356032, 0.38302113,\n",
       "       0.38248354, 0.38194754, 0.38141313, 0.38088031, 0.38034906,\n",
       "       0.37981938, 0.37929128, 0.37876474, 0.37823976, 0.37771634,\n",
       "       0.37719447, 0.37667414, 0.37615536, 0.37563811, 0.3751224 ,\n",
       "       0.37460821, 0.37409555, 0.37358441, 0.37307478, 0.37256666,\n",
       "       0.37206005, 0.37155494, 0.37105132, 0.3705492 , 0.37004857,\n",
       "       0.36954941, 0.36905174, 0.36855555, 0.36806082, 0.36756756,\n",
       "       0.36707576, 0.36658542, 0.36609653, 0.36560909, 0.3651231 ,\n",
       "       0.36463854, 0.36415542, 0.36367373, 0.36319347, 0.36271464,\n",
       "       0.36223722, 0.36176122, 0.36128662, 0.36081344, 0.36034165,\n",
       "       0.35987127, 0.35940227, 0.35893467, 0.35846845, 0.35800362,\n",
       "       0.35754016, 0.35707807, 0.35661736, 0.35615801, 0.35570002,\n",
       "       0.35524339, 0.35478811, 0.35433418, 0.35388159, 0.35343035,\n",
       "       0.35298044, 0.35253187, 0.35208463, 0.35163871, 0.35119411,\n",
       "       0.35075083, 0.35030887, 0.34986821, 0.34942886, 0.34899081,\n",
       "       0.34855406, 0.3481186 , 0.34768444, 0.34725156, 0.34681996,\n",
       "       0.34638964, 0.3459606 , 0.34553283, 0.34510632, 0.34468108,\n",
       "       0.3442571 , 0.34383438, 0.34341291, 0.34299269, 0.34257371,\n",
       "       0.34215597, 0.34173948, 0.34132421, 0.34091018, 0.34049737,\n",
       "       0.34008579, 0.33967543, 0.33926628, 0.33885835, 0.33845162,\n",
       "       0.3380461 , 0.33764178, 0.33723866, 0.33683674, 0.336436  ,\n",
       "       0.33603645, 0.33563809, 0.33524091, 0.3348449 , 0.33445007,\n",
       "       0.3340564 , 0.33366391, 0.33327257, 0.3328824 , 0.33249338,\n",
       "       0.33210552, 0.3317188 , 0.33133323, 0.33094881, 0.33056552,\n",
       "       0.33018337, 0.32980235, 0.32942246, 0.32904369, 0.32866605,\n",
       "       0.32828953, 0.32791412, 0.32753983, 0.32716664, 0.32679456,\n",
       "       0.32642358, 0.3260537 , 0.32568492, 0.32531723, 0.32495063,\n",
       "       0.32458512, 0.32422069, 0.32385734, 0.32349506, 0.32313386,\n",
       "       0.32277373, 0.32241467, 0.32205667, 0.32169973, 0.32134385,\n",
       "       0.32098903, 0.32063525, 0.32028253, 0.31993085, 0.31958021,\n",
       "       0.31923061, 0.31888205, 0.31853452, 0.31818801, 0.31784254,\n",
       "       0.31749809, 0.31715466, 0.31681225, 0.31647085, 0.31613047,\n",
       "       0.31579109, 0.31545272, 0.31511535, 0.31477898, 0.31444361,\n",
       "       0.31410923, 0.31377584, 0.31344344, 0.31311203, 0.31278159,\n",
       "       0.31245214, 0.31212366, 0.31179616, 0.31146963, 0.31114406,\n",
       "       0.31081946, 0.31049582, 0.31017314, 0.30985142, 0.30953065,\n",
       "       0.30921083, 0.30889195, 0.30857403, 0.30825704, 0.307941  ,\n",
       "       0.30762589, 0.30731171, 0.30699847, 0.30668615, 0.30637476,\n",
       "       0.30606429, 0.30575474, 0.30544611, 0.30513839, 0.30483159,\n",
       "       0.30452569, 0.30422071, 0.30391662, 0.30361344, 0.30331115,\n",
       "       0.30300976, 0.30270926, 0.30240966, 0.30211094, 0.3018131 ,\n",
       "       0.30151615, 0.30122008, 0.30092489, 0.30063057, 0.30033712,\n",
       "       0.30004455, 0.29975284, 0.29946199, 0.29917201, 0.29888288,\n",
       "       0.29859461, 0.2983072 , 0.29802064, 0.29773493, 0.29745006,\n",
       "       0.29716604, 0.29688286, 0.29660052, 0.29631901, 0.29603834,\n",
       "       0.2957585 , 0.29547949, 0.29520131, 0.29492395, 0.29464741,\n",
       "       0.2943717 , 0.2940968 , 0.29382271, 0.29354944, 0.29327698,\n",
       "       0.29300532, 0.29273447, 0.29246442, 0.29219517, 0.29192672,\n",
       "       0.29165907, 0.2913922 , 0.29112613, 0.29086085, 0.29059635,\n",
       "       0.29033264, 0.29006971, 0.28980756, 0.28954618, 0.28928558,\n",
       "       0.28902575, 0.28876669, 0.2885084 , 0.28825088, 0.28799412,\n",
       "       0.28773811, 0.28748287, 0.28722838, 0.28697465, 0.28672167,\n",
       "       0.28646944, 0.28621796, 0.28596722, 0.28571722, 0.28546797,\n",
       "       0.28521945, 0.28497167, 0.28472463, 0.28447831, 0.28423273,\n",
       "       0.28398787, 0.28374374, 0.28350034, 0.28325765, 0.28301569,\n",
       "       0.28277444, 0.2825339 , 0.28229408, 0.28205497, 0.28181657,\n",
       "       0.28157887, 0.28134188, 0.28110559, 0.28087   , 0.28063511,\n",
       "       0.28040092, 0.28016742, 0.27993461, 0.27970249, 0.27947106,\n",
       "       0.27924031, 0.27901025, 0.27878087, 0.27855217, 0.27832415,\n",
       "       0.2780968 , 0.27787013, 0.27764412, 0.27741879, 0.27719413,\n",
       "       0.27697013, 0.27674679, 0.27652412, 0.27630211, 0.27608075,\n",
       "       0.27586005, 0.27564001, 0.27542062, 0.27520187, 0.27498378,\n",
       "       0.27476633, 0.27454953, 0.27433336, 0.27411784, 0.27390296,\n",
       "       0.27368871, 0.2734751 , 0.27326213, 0.27304978, 0.27283806,\n",
       "       0.27262697, 0.27241651, 0.27220666, 0.27199745, 0.27178885,\n",
       "       0.27158087, 0.2713735 , 0.27116675, 0.27096061, 0.27075509,\n",
       "       0.27055017, 0.27034586, 0.27014215, 0.26993905, 0.26973655,\n",
       "       0.26953465, 0.26933335, 0.26913264, 0.26893253, 0.26873302,\n",
       "       0.26853409, 0.26833576, 0.26813801, 0.26794084, 0.26774427,\n",
       "       0.26754827, 0.26735285, 0.26715802, 0.26696376, 0.26677008,\n",
       "       0.26657697, 0.26638443, 0.26619246, 0.26600107, 0.26581024,\n",
       "       0.26561997, 0.26543027, 0.26524113, 0.26505255, 0.26486453,\n",
       "       0.26467707, 0.26449016, 0.26430381, 0.26411801, 0.26393276,\n",
       "       0.26374806, 0.2635639 , 0.26338029, 0.26319723, 0.26301471,\n",
       "       0.26283273, 0.26265128, 0.26247038, 0.26229001, 0.26211018,\n",
       "       0.26193088, 0.26175211, 0.26157387, 0.26139616, 0.26121897,\n",
       "       0.26104231, 0.26086618, 0.26069056, 0.26051547, 0.26034089,\n",
       "       0.26016684, 0.25999329, 0.25982027, 0.25964775, 0.25947575,\n",
       "       0.25930425, 0.25913327, 0.25896279, 0.25879281, 0.25862334,\n",
       "       0.25845437, 0.25828591, 0.25811794, 0.25795047, 0.25778349,\n",
       "       0.25761701, 0.25745103, 0.25728553, 0.25712053, 0.25695601,\n",
       "       0.25679199, 0.25662844, 0.25646539, 0.25630281, 0.25614072,\n",
       "       0.25597911, 0.25581798, 0.25565732, 0.25549714, 0.25533744,\n",
       "       0.25517821, 0.25501945, 0.25486116, 0.25470334, 0.25454599,\n",
       "       0.2543891 , 0.25423268, 0.25407672, 0.25392123, 0.25376619,\n",
       "       0.25361162, 0.2534575 , 0.25330384, 0.25315063, 0.25299788,\n",
       "       0.25284558, 0.25269374, 0.25254234, 0.25239139, 0.25224089,\n",
       "       0.25209083, 0.25194122, 0.25179206, 0.25164333, 0.25149505,\n",
       "       0.2513472 , 0.25119979, 0.25105282, 0.25090629, 0.25076019,\n",
       "       0.25061452, 0.25046928, 0.25032448, 0.2501801 , 0.25003615,\n",
       "       0.24989263, 0.24974953, 0.24960686, 0.24946461, 0.24932278,\n",
       "       0.24918137, 0.24904038, 0.24889981, 0.24875966, 0.24861992,\n",
       "       0.24848059, 0.24834168, 0.24820318, 0.24806509, 0.24792741,\n",
       "       0.24779013, 0.24765327, 0.24751681, 0.24738075, 0.2472451 ,\n",
       "       0.24710984, 0.24697499, 0.24684054, 0.24670649, 0.24657283,\n",
       "       0.24643957, 0.24630671, 0.24617424, 0.24604216, 0.24591047,\n",
       "       0.24577918, 0.24564827, 0.24551775, 0.24538762, 0.24525787,\n",
       "       0.24512851, 0.24499953, 0.24487093, 0.24474271, 0.24461488,\n",
       "       0.24448742, 0.24436034, 0.24423364, 0.24410731, 0.24398136,\n",
       "       0.24385578, 0.24373057, 0.24360573, 0.24348126, 0.24335716,\n",
       "       0.24323343, 0.24311007, 0.24298707, 0.24286444, 0.24274217,\n",
       "       0.24262026, 0.24249871, 0.24237753, 0.2422567 , 0.24213623,\n",
       "       0.24201612, 0.24189636, 0.24177696, 0.24165791, 0.24153921,\n",
       "       0.24142087, 0.24130288, 0.24118523, 0.24106794, 0.24095099,\n",
       "       0.24083439, 0.24071814, 0.24060223, 0.24048666, 0.24037143,\n",
       "       0.24025655, 0.24014201, 0.24002781, 0.23991394, 0.23980041,\n",
       "       0.23968722, 0.23957437, 0.23946185, 0.23934966, 0.2392378 ,\n",
       "       0.23912628, 0.23901509, 0.23890422, 0.23879369, 0.23868348,\n",
       "       0.2385736 , 0.23846404, 0.23835481, 0.2382459 , 0.23813732])"
      ]
     },
     "execution_count": 15,
     "metadata": {},
     "output_type": "execute_result"
    }
   ],
   "source": [
    "custo"
   ]
  },
  {
   "cell_type": "code",
   "execution_count": null,
   "metadata": {},
   "outputs": [],
   "source": [
    "print(\"w0={}, w1={}\".format(w0,w1))"
   ]
  },
  {
   "cell_type": "markdown",
   "metadata": {},
   "source": [
    "## PLOTANDO O CUSTO"
   ]
  },
  {
   "cell_type": "code",
   "execution_count": null,
   "metadata": {},
   "outputs": [],
   "source": [
    "fig, ax = plt.subplots()  \n",
    "ax.plot(np.arange(epoch), custo, 'r')  \n",
    "ax.set_xlabel('Iterações')  \n",
    "ax.set_ylabel('Custo')  \n",
    "ax.set_title('MSE vs. Epoch')  "
   ]
  },
  {
   "cell_type": "markdown",
   "metadata": {},
   "source": [
    "## PLOTANDO A HIPÓTESE OTIMIZADA"
   ]
  },
  {
   "cell_type": "code",
   "execution_count": null,
   "metadata": {},
   "outputs": [],
   "source": [
    "plot_line(X,y, w0, w1)"
   ]
  },
  {
   "cell_type": "markdown",
   "metadata": {},
   "source": [
    "## REALIZADO UMA PREVISÃO"
   ]
  },
  {
   "cell_type": "code",
   "execution_count": null,
   "metadata": {},
   "outputs": [],
   "source": [
    "y_hat(1.5, w0, w1)"
   ]
  },
  {
   "cell_type": "code",
   "execution_count": null,
   "metadata": {},
   "outputs": [],
   "source": [
    "print(\"w0={}, w1={}\".format(w0,w1))"
   ]
  },
  {
   "cell_type": "code",
   "execution_count": null,
   "metadata": {},
   "outputs": [],
   "source": [
    "w0 + w1*1.5"
   ]
  },
  {
   "cell_type": "code",
   "execution_count": null,
   "metadata": {},
   "outputs": [],
   "source": []
  }
 ],
 "metadata": {
  "kernelspec": {
   "display_name": "Python 3",
   "language": "python",
   "name": "python3"
  },
  "language_info": {
   "codemirror_mode": {
    "name": "ipython",
    "version": 3
   },
   "file_extension": ".py",
   "mimetype": "text/x-python",
   "name": "python",
   "nbconvert_exporter": "python",
   "pygments_lexer": "ipython3",
   "version": "3.6.2"
  }
 },
 "nbformat": 4,
 "nbformat_minor": 2
}
