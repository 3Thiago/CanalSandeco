{
 "cells": [
  {
   "cell_type": "markdown",
   "metadata": {},
   "source": [
    "<h1 style='color:blue'>Carteiro Virtual - Reconhecimento de números escritos a mão usando</h1>\n",
    "\n",
    "Vejamos um exemplo concreto de uma rede neural \n",
    "para a classificar os números escritos a mão. \n",
    "\n",
    "O problema que estamos tentando resolver aqui é classificar imagens em escala de cinza de letras de números escritos a mão de tal forma que depois a gente possa desenvolver um programa que lê um digito que uma pessoa escreveu e o programa tem que dizer qual o número que ela escreveu. "
   ]
  },
  {
   "cell_type": "markdown",
   "metadata": {},
   "source": [
    "<img src='correios.jpg' width=\"50%\"/>\n"
   ]
  },
  {
   "cell_type": "markdown",
   "metadata": {},
   "source": [
    "***O MNIST***\n",
    " \n",
    "Mnist é um conjunto de dados de imagens, um clássico na comunidade de aprendizagem de máquinas, montado pelo Instituto Nacional de Padrões e Tecnologia (o NIST em MNIST) na década de 1980."
   ]
  },
  {
   "cell_type": "markdown",
   "metadata": {},
   "source": [
    "Exemplo das imagens do MNIST\n",
    "<img src='mnist_examples.png' width=\"50%\"/>"
   ]
  },
  {
   "cell_type": "markdown",
   "metadata": {},
   "source": [
    "Como está organizado o MNIST\n",
    "<img src='mnist_img_classe.png' width=\"30%\"/>"
   ]
  },
  {
   "cell_type": "markdown",
   "metadata": {},
   "source": [
    "### IMPORTANDO O MNIST"
   ]
  },
  {
   "cell_type": "code",
   "execution_count": 1,
   "metadata": {},
   "outputs": [],
   "source": [
    "from tensorflow.keras.datasets import mnist\n",
    "import numpy as np"
   ]
  },
  {
   "cell_type": "code",
   "execution_count": 2,
   "metadata": {},
   "outputs": [],
   "source": [
    "(train_images, train_labels), (test_images, test_labels) = mnist.load_data()"
   ]
  },
  {
   "cell_type": "code",
   "execution_count": 3,
   "metadata": {},
   "outputs": [
    {
     "data": {
      "text/plain": [
       "array([[  0,   0,   0,   0,   0,   0,   0,   0,   0,   0,   0,   0,   0,\n",
       "          0,   0,   0,   0,   0,   0,   0,   0,   0,   0,   0,   0,   0,\n",
       "          0,   0],\n",
       "       [  0,   0,   0,   0,   0,   0,   0,   0,   0,   0,   0,   0,   0,\n",
       "          0,   0,   0,   0,   0,   0,   0,   0,   0,   0,   0,   0,   0,\n",
       "          0,   0],\n",
       "       [  0,   0,   0,   0,   0,   0,   0,   0,   0,   0,   0,   0,   0,\n",
       "          0,   0,   0,   0,   0,   0,   0,   0,   0,   0,   0,   0,   0,\n",
       "          0,   0],\n",
       "       [  0,   0,   0,   0,   0,   0,   0,   0,   0,   0,   0,   0,   0,\n",
       "          0,   0,   0,   0,   0,   0,   0,   0,   0,   0,   0,   0,   0,\n",
       "          0,   0],\n",
       "       [  0,   0,   0,   0,   0,   0,   0,   0,   0,   0,   0,   0,   0,\n",
       "          0,   0,   0,   0,   0,   0,   0,   0,   0,   0,   0,   0,   0,\n",
       "          0,   0],\n",
       "       [  0,   0,   0,   0,   0,   0,   0,   0,   0,   0,   0,   0,   3,\n",
       "         18,  18,  18, 126, 136, 175,  26, 166, 255, 247, 127,   0,   0,\n",
       "          0,   0],\n",
       "       [  0,   0,   0,   0,   0,   0,   0,   0,  30,  36,  94, 154, 170,\n",
       "        253, 253, 253, 253, 253, 225, 172, 253, 242, 195,  64,   0,   0,\n",
       "          0,   0],\n",
       "       [  0,   0,   0,   0,   0,   0,   0,  49, 238, 253, 253, 253, 253,\n",
       "        253, 253, 253, 253, 251,  93,  82,  82,  56,  39,   0,   0,   0,\n",
       "          0,   0],\n",
       "       [  0,   0,   0,   0,   0,   0,   0,  18, 219, 253, 253, 253, 253,\n",
       "        253, 198, 182, 247, 241,   0,   0,   0,   0,   0,   0,   0,   0,\n",
       "          0,   0],\n",
       "       [  0,   0,   0,   0,   0,   0,   0,   0,  80, 156, 107, 253, 253,\n",
       "        205,  11,   0,  43, 154,   0,   0,   0,   0,   0,   0,   0,   0,\n",
       "          0,   0],\n",
       "       [  0,   0,   0,   0,   0,   0,   0,   0,   0,  14,   1, 154, 253,\n",
       "         90,   0,   0,   0,   0,   0,   0,   0,   0,   0,   0,   0,   0,\n",
       "          0,   0],\n",
       "       [  0,   0,   0,   0,   0,   0,   0,   0,   0,   0,   0, 139, 253,\n",
       "        190,   2,   0,   0,   0,   0,   0,   0,   0,   0,   0,   0,   0,\n",
       "          0,   0],\n",
       "       [  0,   0,   0,   0,   0,   0,   0,   0,   0,   0,   0,  11, 190,\n",
       "        253,  70,   0,   0,   0,   0,   0,   0,   0,   0,   0,   0,   0,\n",
       "          0,   0],\n",
       "       [  0,   0,   0,   0,   0,   0,   0,   0,   0,   0,   0,   0,  35,\n",
       "        241, 225, 160, 108,   1,   0,   0,   0,   0,   0,   0,   0,   0,\n",
       "          0,   0],\n",
       "       [  0,   0,   0,   0,   0,   0,   0,   0,   0,   0,   0,   0,   0,\n",
       "         81, 240, 253, 253, 119,  25,   0,   0,   0,   0,   0,   0,   0,\n",
       "          0,   0],\n",
       "       [  0,   0,   0,   0,   0,   0,   0,   0,   0,   0,   0,   0,   0,\n",
       "          0,  45, 186, 253, 253, 150,  27,   0,   0,   0,   0,   0,   0,\n",
       "          0,   0],\n",
       "       [  0,   0,   0,   0,   0,   0,   0,   0,   0,   0,   0,   0,   0,\n",
       "          0,   0,  16,  93, 252, 253, 187,   0,   0,   0,   0,   0,   0,\n",
       "          0,   0],\n",
       "       [  0,   0,   0,   0,   0,   0,   0,   0,   0,   0,   0,   0,   0,\n",
       "          0,   0,   0,   0, 249, 253, 249,  64,   0,   0,   0,   0,   0,\n",
       "          0,   0],\n",
       "       [  0,   0,   0,   0,   0,   0,   0,   0,   0,   0,   0,   0,   0,\n",
       "          0,  46, 130, 183, 253, 253, 207,   2,   0,   0,   0,   0,   0,\n",
       "          0,   0],\n",
       "       [  0,   0,   0,   0,   0,   0,   0,   0,   0,   0,   0,   0,  39,\n",
       "        148, 229, 253, 253, 253, 250, 182,   0,   0,   0,   0,   0,   0,\n",
       "          0,   0],\n",
       "       [  0,   0,   0,   0,   0,   0,   0,   0,   0,   0,  24, 114, 221,\n",
       "        253, 253, 253, 253, 201,  78,   0,   0,   0,   0,   0,   0,   0,\n",
       "          0,   0],\n",
       "       [  0,   0,   0,   0,   0,   0,   0,   0,  23,  66, 213, 253, 253,\n",
       "        253, 253, 198,  81,   2,   0,   0,   0,   0,   0,   0,   0,   0,\n",
       "          0,   0],\n",
       "       [  0,   0,   0,   0,   0,   0,  18, 171, 219, 253, 253, 253, 253,\n",
       "        195,  80,   9,   0,   0,   0,   0,   0,   0,   0,   0,   0,   0,\n",
       "          0,   0],\n",
       "       [  0,   0,   0,   0,  55, 172, 226, 253, 253, 253, 253, 244, 133,\n",
       "         11,   0,   0,   0,   0,   0,   0,   0,   0,   0,   0,   0,   0,\n",
       "          0,   0],\n",
       "       [  0,   0,   0,   0, 136, 253, 253, 253, 212, 135, 132,  16,   0,\n",
       "          0,   0,   0,   0,   0,   0,   0,   0,   0,   0,   0,   0,   0,\n",
       "          0,   0],\n",
       "       [  0,   0,   0,   0,   0,   0,   0,   0,   0,   0,   0,   0,   0,\n",
       "          0,   0,   0,   0,   0,   0,   0,   0,   0,   0,   0,   0,   0,\n",
       "          0,   0],\n",
       "       [  0,   0,   0,   0,   0,   0,   0,   0,   0,   0,   0,   0,   0,\n",
       "          0,   0,   0,   0,   0,   0,   0,   0,   0,   0,   0,   0,   0,\n",
       "          0,   0],\n",
       "       [  0,   0,   0,   0,   0,   0,   0,   0,   0,   0,   0,   0,   0,\n",
       "          0,   0,   0,   0,   0,   0,   0,   0,   0,   0,   0,   0,   0,\n",
       "          0,   0]], dtype=uint8)"
      ]
     },
     "execution_count": 3,
     "metadata": {},
     "output_type": "execute_result"
    }
   ],
   "source": [
    "train_images[0]"
   ]
  },
  {
   "cell_type": "code",
   "execution_count": 4,
   "metadata": {},
   "outputs": [
    {
     "data": {
      "image/png": "[encoded data removed]",
      "text/plain": [
       "<Figure size 432x288 with 1 Axes>"
      ]
     },
     "metadata": {},
     "output_type": "display_data"
    },
    {
     "name": "stdout",
     "output_type": "stream",
     "text": [
      "5\n"
     ]
    }
   ],
   "source": [
    "from matplotlib import pyplot as plt\n",
    "%matplotlib inline\n",
    "plt.imshow(train_images[0], cmap='gray')\n",
    "plt.show()\n",
    "\n",
    "print(train_labels[0])"
   ]
  },
  {
   "cell_type": "code",
   "execution_count": 5,
   "metadata": {},
   "outputs": [],
   "source": [
    "## VERIFICANDO O TAMANHO DO DATASET"
   ]
  },
  {
   "cell_type": "code",
   "execution_count": 6,
   "metadata": {},
   "outputs": [
    {
     "data": {
      "text/plain": [
       "(60000, 28, 28)"
      ]
     },
     "execution_count": 6,
     "metadata": {},
     "output_type": "execute_result"
    }
   ],
   "source": [
    "train_images.shape"
   ]
  },
  {
   "cell_type": "code",
   "execution_count": 7,
   "metadata": {},
   "outputs": [
    {
     "data": {
      "text/plain": [
       "array([0, 1, 2, 3, 4, 5, 6, 7, 8, 9], dtype=uint8)"
      ]
     },
     "execution_count": 7,
     "metadata": {},
     "output_type": "execute_result"
    }
   ],
   "source": [
    "np.unique(train_labels)"
   ]
  },
  {
   "cell_type": "code",
   "execution_count": 8,
   "metadata": {},
   "outputs": [
    {
     "data": {
      "text/plain": [
       "(10000, 28, 28)"
      ]
     },
     "execution_count": 8,
     "metadata": {},
     "output_type": "execute_result"
    }
   ],
   "source": [
    "test_images.shape"
   ]
  },
  {
   "cell_type": "code",
   "execution_count": 9,
   "metadata": {},
   "outputs": [
    {
     "data": {
      "text/plain": [
       "array([0, 1, 2, 3, 4, 5, 6, 7, 8, 9], dtype=uint8)"
      ]
     },
     "execution_count": 9,
     "metadata": {},
     "output_type": "execute_result"
    }
   ],
   "source": [
    "np.unique(test_labels)"
   ]
  },
  {
   "cell_type": "markdown",
   "metadata": {},
   "source": [
    "### FLATTENING"
   ]
  },
  {
   "cell_type": "code",
   "execution_count": 10,
   "metadata": {},
   "outputs": [],
   "source": [
    "train_images = train_images.reshape((60000, 28 * 28))\n",
    "test_images = test_images.reshape((10000, 28 * 28))"
   ]
  },
  {
   "cell_type": "markdown",
   "metadata": {},
   "source": [
    "### Normalizando"
   ]
  },
  {
   "cell_type": "code",
   "execution_count": 11,
   "metadata": {},
   "outputs": [],
   "source": [
    "train_images = train_images.astype('float32') / 255\n",
    "test_images = test_images.astype('float32') / 255"
   ]
  },
  {
   "cell_type": "markdown",
   "metadata": {},
   "source": [
    "### Categorizando One Hot Encoder"
   ]
  },
  {
   "cell_type": "code",
   "execution_count": 12,
   "metadata": {},
   "outputs": [],
   "source": [
    "from tensorflow.keras.utils import to_categorical\n",
    "train_labels = to_categorical(train_labels)\n",
    "test_labels = to_categorical(test_labels)"
   ]
  },
  {
   "cell_type": "markdown",
   "metadata": {},
   "source": [
    "## Importando Tensorflow e keras"
   ]
  },
  {
   "cell_type": "code",
   "execution_count": 13,
   "metadata": {},
   "outputs": [],
   "source": [
    "from tensorflow.keras import models, layers"
   ]
  },
  {
   "cell_type": "markdown",
   "metadata": {},
   "source": [
    "### Criando a rede neural"
   ]
  },
  {
   "cell_type": "code",
   "execution_count": 14,
   "metadata": {},
   "outputs": [
    {
     "name": "stdout",
     "output_type": "stream",
     "text": [
      "_________________________________________________________________\n",
      "Layer (type)                 Output Shape              Param #   \n",
      "=================================================================\n",
      "dense (Dense)                (None, 512)               401920    \n",
      "_________________________________________________________________\n",
      "dense_1 (Dense)              (None, 10)                5130      \n",
      "=================================================================\n",
      "Total params: 407,050\n",
      "Trainable params: 407,050\n",
      "Non-trainable params: 0\n",
      "_________________________________________________________________\n"
     ]
    }
   ],
   "source": [
    "model = models.Sequential()\n",
    "model.add(layers.Dense(512, activation='sigmoid', input_shape=(28 * 28,)))\n",
    "model.add(layers.Dense(10, activation='softmax'))\n",
    "\n",
    "model.summary()"
   ]
  },
  {
   "cell_type": "markdown",
   "metadata": {},
   "source": [
    "## Criando compilador keras"
   ]
  },
  {
   "cell_type": "code",
   "execution_count": 15,
   "metadata": {},
   "outputs": [],
   "source": [
    "model.compile(optimizer='rmsprop',\n",
    "                loss='categorical_crossentropy',\n",
    "                metrics=['accuracy'])"
   ]
  },
  {
   "cell_type": "markdown",
   "metadata": {},
   "source": [
    "## Treinando a Rede Neural"
   ]
  },
  {
   "cell_type": "code",
   "execution_count": null,
   "metadata": {},
   "outputs": [
    {
     "name": "stdout",
     "output_type": "stream",
     "text": [
      "Epoch 1/100\n",
      "60000/60000 [==============================] - 5s 91us/step - loss: 0.4271 - acc: 0.8836\n",
      "Epoch 2/100\n",
      "60000/60000 [==============================] - 3s 58us/step - loss: 0.2356 - acc: 0.9307\n",
      "Epoch 3/100\n",
      "60000/60000 [==============================] - 3s 56us/step - loss: 0.1785 - acc: 0.9477\n",
      "Epoch 4/100\n",
      "60000/60000 [==============================] - 8s 135us/step - loss: 0.1398 - acc: 0.9591\n",
      "Epoch 5/100\n",
      "60000/60000 [==============================] - 4s 61us/step - loss: 0.1126 - acc: 0.9674\n",
      "Epoch 6/100\n",
      "60000/60000 [==============================] - 5s 81us/step - loss: 0.0928 - acc: 0.9735: 1s - loss: 0.09\n",
      "Epoch 7/100\n",
      "60000/60000 [==============================] - 4s 64us/step - loss: 0.0785 - acc: 0.9772\n",
      "Epoch 8/100\n",
      "60000/60000 [==============================] - 4s 65us/step - loss: 0.0665 - acc: 0.9806\n",
      "Epoch 9/100\n",
      "60000/60000 [==============================] - 3s 53us/step - loss: 0.0574 - acc: 0.9833\n",
      "Epoch 10/100\n",
      "60000/60000 [==============================] - 4s 58us/step - loss: 0.0496 - acc: 0.9864\n",
      "Epoch 11/100\n",
      "60000/60000 [==============================] - 4s 59us/step - loss: 0.0432 - acc: 0.9876\n",
      "Epoch 12/100\n",
      "60000/60000 [==============================] - 4s 59us/step - loss: 0.0375 - acc: 0.9895\n",
      "Epoch 13/100\n",
      "60000/60000 [==============================] - 4s 60us/step - loss: 0.0328 - acc: 0.9911\n",
      "Epoch 14/100\n",
      "60000/60000 [==============================] - 3s 57us/step - loss: 0.0284 - acc: 0.9921\n",
      "Epoch 15/100\n",
      "60000/60000 [==============================] - 3s 50us/step - loss: 0.0250 - acc: 0.9936\n",
      "Epoch 16/100\n",
      "60000/60000 [==============================] - 3s 54us/step - loss: 0.0219 - acc: 0.9945\n",
      "Epoch 17/100\n",
      "60000/60000 [==============================] - 4s 60us/step - loss: 0.0189 - acc: 0.9953\n",
      "Epoch 18/100\n",
      "60000/60000 [==============================] - 4s 59us/step - loss: 0.0159 - acc: 0.9960\n",
      "Epoch 19/100\n",
      "60000/60000 [==============================] - 3s 57us/step - loss: 0.0141 - acc: 0.9969\n",
      "Epoch 20/100\n",
      "60000/60000 [==============================] - 3s 53us/step - loss: 0.0122 - acc: 0.9974\n",
      "Epoch 21/100\n",
      "60000/60000 [==============================] - 3s 53us/step - loss: 0.0105 - acc: 0.9980\n",
      "Epoch 22/100\n",
      "60000/60000 [==============================] - 3s 54us/step - loss: 0.0093 - acc: 0.9980\n",
      "Epoch 23/100\n",
      "60000/60000 [==============================] - 3s 54us/step - loss: 0.0080 - acc: 0.9984\n",
      "Epoch 24/100\n",
      "60000/60000 [==============================] - 3s 56us/step - loss: 0.0068 - acc: 0.9989\n",
      "Epoch 25/100\n",
      "60000/60000 [==============================] - 3s 57us/step - loss: 0.0057 - acc: 0.9990\n",
      "Epoch 26/100\n",
      "60000/60000 [==============================] - 3s 54us/step - loss: 0.0050 - acc: 0.9991\n",
      "Epoch 27/100\n",
      "60000/60000 [==============================] - 3s 54us/step - loss: 0.0044 - acc: 0.9992\n",
      "Epoch 28/100\n",
      "60000/60000 [==============================] - 3s 55us/step - loss: 0.0038 - acc: 0.9993\n",
      "Epoch 29/100\n",
      "60000/60000 [==============================] - 3s 54us/step - loss: 0.0032 - acc: 0.9995\n",
      "Epoch 30/100\n",
      "60000/60000 [==============================] - 3s 53us/step - loss: 0.0028 - acc: 0.9996\n",
      "Epoch 31/100\n",
      "60000/60000 [==============================] - 3s 58us/step - loss: 0.0024 - acc: 0.9995\n",
      "Epoch 32/100\n",
      "60000/60000 [==============================] - 3s 54us/step - loss: 0.0021 - acc: 0.9997\n",
      "Epoch 33/100\n",
      "60000/60000 [==============================] - 3s 55us/step - loss: 0.0018 - acc: 0.9996\n",
      "Epoch 34/100\n",
      "60000/60000 [==============================] - 3s 54us/step - loss: 0.0016 - acc: 0.9997\n",
      "Epoch 35/100\n",
      "60000/60000 [==============================] - 3s 53us/step - loss: 0.0013 - acc: 0.9997\n",
      "Epoch 36/100\n",
      "60000/60000 [==============================] - 3s 54us/step - loss: 0.0012 - acc: 0.9997\n",
      "Epoch 37/100\n",
      "60000/60000 [==============================] - 3s 56us/step - loss: 9.9374e-04 - acc: 0.9998\n",
      "Epoch 38/100\n",
      "60000/60000 [==============================] - 4s 61us/step - loss: 8.4251e-04 - acc: 0.9998\n",
      "Epoch 39/100\n",
      "60000/60000 [==============================] - 3s 57us/step - loss: 7.9766e-04 - acc: 0.9998\n",
      "Epoch 40/100\n",
      "60000/60000 [==============================] - 3s 50us/step - loss: 5.7858e-04 - acc: 0.9999\n",
      "Epoch 41/100\n",
      "60000/60000 [==============================] - 3s 49us/step - loss: 5.1647e-04 - acc: 0.9999\n",
      "Epoch 42/100\n",
      "60000/60000 [==============================] - 3s 47us/step - loss: 6.0162e-04 - acc: 0.9998\n",
      "Epoch 43/100\n",
      "60000/60000 [==============================] - 3s 47us/step - loss: 4.5013e-04 - acc: 0.9999\n",
      "Epoch 44/100\n",
      "60000/60000 [==============================] - 4s 65us/step - loss: 3.2493e-04 - acc: 0.9999\n",
      "Epoch 45/100\n",
      "60000/60000 [==============================] - 5s 81us/step - loss: 3.1463e-04 - acc: 0.9999\n",
      "Epoch 46/100\n",
      "60000/60000 [==============================] - 3s 44us/step - loss: 3.1536e-04 - acc: 0.9999\n",
      "Epoch 47/100\n",
      "60000/60000 [==============================] - 3s 42us/step - loss: 1.6625e-04 - acc: 1.0000\n",
      "Epoch 48/100\n",
      "60000/60000 [==============================] - 3s 42us/step - loss: 1.9913e-04 - acc: 0.9999\n",
      "Epoch 49/100\n",
      "60000/60000 [==============================] - 2s 42us/step - loss: 1.5314e-04 - acc: 1.0000\n",
      "Epoch 50/100\n",
      "60000/60000 [==============================] - 3s 42us/step - loss: 1.3665e-04 - acc: 1.0000\n",
      "Epoch 51/100\n",
      "60000/60000 [==============================] - 3s 47us/step - loss: 5.8898e-05 - acc: 1.0000\n",
      "Epoch 52/100\n",
      "60000/60000 [==============================] - 3s 45us/step - loss: 1.1742e-04 - acc: 1.0000\n",
      "Epoch 53/100\n",
      "60000/60000 [==============================] - 3s 43us/step - loss: 1.0548e-04 - acc: 1.0000\n",
      "Epoch 54/100\n",
      "60000/60000 [==============================] - 3s 43us/step - loss: 5.3925e-05 - acc: 1.0000\n",
      "Epoch 55/100\n",
      "60000/60000 [==============================] - 3s 47us/step - loss: 5.0927e-05 - acc: 1.0000\n",
      "Epoch 56/100\n",
      "60000/60000 [==============================] - 3s 43us/step - loss: 5.9269e-05 - acc: 1.0000\n",
      "Epoch 57/100\n",
      "60000/60000 [==============================] - 3s 46us/step - loss: 4.0095e-05 - acc: 1.0000\n",
      "Epoch 58/100\n",
      "60000/60000 [==============================] - 3s 44us/step - loss: 6.1320e-05 - acc: 1.0000\n",
      "Epoch 59/100\n",
      "60000/60000 [==============================] - 3s 56us/step - loss: 1.7776e-05 - acc: 1.0000\n",
      "Epoch 60/100\n",
      "60000/60000 [==============================] - 3s 48us/step - loss: 2.2502e-05 - acc: 1.0000\n",
      "Epoch 61/100\n",
      "60000/60000 [==============================] - 3s 48us/step - loss: 2.5925e-05 - acc: 1.0000\n",
      "Epoch 62/100\n",
      "60000/60000 [==============================] - 6s 94us/step - loss: 1.8073e-05 - acc: 1.0000\n",
      "Epoch 63/100\n",
      "60000/60000 [==============================] - 4s 64us/step - loss: 2.6116e-05 - acc: 1.0000\n",
      "Epoch 64/100\n",
      "60000/60000 [==============================] - 3s 47us/step - loss: 2.7432e-05 - acc: 1.0000\n",
      "Epoch 65/100\n",
      "60000/60000 [==============================] - 3s 48us/step - loss: 2.0257e-05 - acc: 1.0000\n",
      "Epoch 66/100\n",
      "60000/60000 [==============================] - 3s 49us/step - loss: 7.2155e-06 - acc: 1.0000\n",
      "Epoch 67/100\n",
      "60000/60000 [==============================] - 3s 47us/step - loss: 3.1845e-05 - acc: 1.0000\n",
      "Epoch 68/100\n",
      "60000/60000 [==============================] - 3s 47us/step - loss: 1.0138e-05 - acc: 1.0000\n",
      "Epoch 69/100\n",
      "60000/60000 [==============================] - 3s 47us/step - loss: 2.2066e-05 - acc: 1.0000\n",
      "Epoch 70/100\n",
      "60000/60000 [==============================] - 3s 47us/step - loss: 1.1845e-05 - acc: 1.0000\n",
      "Epoch 71/100\n",
      "60000/60000 [==============================] - 3s 56us/step - loss: 1.6655e-06 - acc: 1.0000\n",
      "Epoch 72/100\n",
      "60000/60000 [==============================] - 4s 62us/step - loss: 1.5292e-05 - acc: 1.0000\n",
      "Epoch 73/100\n",
      "60000/60000 [==============================] - 4s 68us/step - loss: 1.4425e-05 - acc: 1.0000\n",
      "Epoch 74/100\n",
      "60000/60000 [==============================] - 4s 69us/step - loss: 1.4635e-06 - acc: 1.0000\n",
      "Epoch 75/100\n",
      "60000/60000 [==============================] - 3s 53us/step - loss: 1.1649e-06 - acc: 1.0000\n",
      "Epoch 76/100\n",
      "60000/60000 [==============================] - 3s 48us/step - loss: 6.4789e-07 - acc: 1.0000\n",
      "Epoch 77/100\n",
      "60000/60000 [==============================] - 6s 98us/step - loss: 5.7529e-07 - acc: 1.0000\n",
      "Epoch 78/100\n",
      "60000/60000 [==============================] - 4s 61us/step - loss: 9.5997e-07 - acc: 1.0000\n",
      "Epoch 79/100\n"
     ]
    },
    {
     "name": "stdout",
     "output_type": "stream",
     "text": [
      "60000/60000 [==============================] - 3s 48us/step - loss: 1.0639e-06 - acc: 1.0000\n",
      "Epoch 80/100\n",
      "60000/60000 [==============================] - 3s 48us/step - loss: 5.2055e-07 - acc: 1.0000\n",
      "Epoch 81/100\n",
      "60000/60000 [==============================] - 3s 46us/step - loss: 4.6939e-07 - acc: 1.0000\n",
      "Epoch 82/100\n",
      "60000/60000 [==============================] - 3s 46us/step - loss: 7.6411e-07 - acc: 1.0000\n",
      "Epoch 83/100\n",
      "60000/60000 [==============================] - 4s 59us/step - loss: 5.7015e-07 - acc: 1.0000\n",
      "Epoch 84/100\n",
      "60000/60000 [==============================] - 3s 45us/step - loss: 3.1846e-07 - acc: 1.0000\n",
      "Epoch 85/100\n",
      "60000/60000 [==============================] - 3s 46us/step - loss: 2.8910e-07 - acc: 1.0000\n",
      "Epoch 86/100\n",
      "60000/60000 [==============================] - 3s 46us/step - loss: 2.6648e-07 - acc: 1.0000\n",
      "Epoch 87/100\n",
      "60000/60000 [==============================] - 3s 46us/step - loss: 2.5171e-07 - acc: 1.0000\n",
      "Epoch 88/100\n",
      "60000/60000 [==============================] - 3s 46us/step - loss: 2.4820e-07 - acc: 1.0000\n",
      "Epoch 89/100\n",
      "60000/60000 [==============================] - 3s 50us/step - loss: 2.3531e-07 - acc: 1.0000\n",
      "Epoch 90/100\n",
      "60000/60000 [==============================] - 3s 46us/step - loss: 2.2709e-07 - acc: 1.0000\n",
      "Epoch 91/100\n",
      "60000/60000 [==============================] - 3s 47us/step - loss: 2.1915e-07 - acc: 1.0000\n",
      "Epoch 92/100\n",
      "60000/60000 [==============================] - 3s 48us/step - loss: 2.1491e-07 - acc: 1.0000\n",
      "Epoch 93/100\n",
      "60000/60000 [==============================] - 3s 46us/step - loss: 2.1030e-07 - acc: 1.0000\n",
      "Epoch 94/100\n",
      "60000/60000 [==============================] - 3s 47us/step - loss: 2.0350e-07 - acc: 1.0000\n",
      "Epoch 95/100\n",
      "60000/60000 [==============================] - 3s 46us/step - loss: 1.9893e-07 - acc: 1.0000\n",
      "Epoch 96/100\n",
      "60000/60000 [==============================] - 3s 45us/step - loss: 1.9631e-07 - acc: 1.0000\n",
      "Epoch 97/100\n",
      "60000/60000 [==============================] - 2s 41us/step - loss: 1.9242e-07 - acc: 1.0000\n",
      "Epoch 98/100\n",
      "60000/60000 [==============================] - 2s 42us/step - loss: 1.8798e-07 - acc: 1.0000\n",
      "Epoch 99/100\n",
      "60000/60000 [==============================] - 3s 53us/step - loss: 1.8480e-07 - acc: 1.0000\n",
      "Epoch 100/100\n",
      "51072/60000 [========================>.....] - ETA: 0s - loss: 1.8229e-07 - acc: 1.0000"
     ]
    }
   ],
   "source": [
    "model.fit(train_images, train_labels, epochs=100, batch_size=128)"
   ]
  },
  {
   "cell_type": "markdown",
   "metadata": {},
   "source": [
    "## VERIFICANDO A ACURÁCIA DA REDE"
   ]
  },
  {
   "cell_type": "code",
   "execution_count": null,
   "metadata": {},
   "outputs": [],
   "source": [
    "test_loss, test_acc = model.evaluate(test_images, test_labels)"
   ]
  },
  {
   "cell_type": "code",
   "execution_count": null,
   "metadata": {},
   "outputs": [],
   "source": [
    "print('test_acc:', test_acc)"
   ]
  },
  {
   "cell_type": "markdown",
   "metadata": {},
   "source": [
    "## Salvando o modelo"
   ]
  },
  {
   "cell_type": "code",
   "execution_count": null,
   "metadata": {},
   "outputs": [],
   "source": [
    "model.save(\"Carteiro.h5\")"
   ]
  }
 ],
 "metadata": {
  "kernelspec": {
   "display_name": "Python 3",
   "language": "python",
   "name": "python3"
  },
  "language_info": {
   "codemirror_mode": {
    "name": "ipython",
    "version": 3
   },
   "file_extension": ".py",
   "mimetype": "text/x-python",
   "name": "python",
   "nbconvert_exporter": "python",
   "pygments_lexer": "ipython3",
   "version": "3.6.2"
  }
 },
 "nbformat": 4,
 "nbformat_minor": 2
}
